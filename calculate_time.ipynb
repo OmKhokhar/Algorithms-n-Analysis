{
 "cells": [
  {
   "cell_type": "code",
   "execution_count": 1,
   "id": "c79a4460",
   "metadata": {},
   "outputs": [],
   "source": [
    "import os\n",
    "import timeit\n",
    "import matplotlib as plt"
   ]
  },
  {
   "cell_type": "code",
   "execution_count": 2,
   "id": "4ad180d9",
   "metadata": {},
   "outputs": [],
   "source": [
    "def run(method, data_sets, operation):\n",
    "    command = [f\"python .\\dictionary_file_based.py {method} {data_set} {operation}.in {method}_{operation}{(data_set[:-4])[4:]}.exp\" for data_set in data_sets]\n",
    "    return command"
   ]
  },
  {
   "cell_type": "code",
   "execution_count": 3,
   "id": "9ad09575",
   "metadata": {},
   "outputs": [],
   "source": [
    "methods = ['list', 'hashtable', 'tst']"
   ]
  },
  {
   "cell_type": "code",
   "execution_count": 4,
   "id": "f17ff07a",
   "metadata": {},
   "outputs": [],
   "source": [
    "operations = ['add', 'delete', 'search', 'auto_complete']"
   ]
  },
  {
   "cell_type": "code",
   "execution_count": 11,
   "id": "29615e8d",
   "metadata": {},
   "outputs": [
    {
     "data": {
      "text/plain": [
       "['data10.txt', 'data500.txt', 'data5k.txt', 'data50k.txt', 'data200k.txt']"
      ]
     },
     "execution_count": 11,
     "metadata": {},
     "output_type": "execute_result"
    }
   ],
   "source": [
    "data_files = ['data10.txt', 'data500.txt', 'data5k.txt', 'data50k.txt','data200k.txt']\n",
    "        \n",
    "data_files"
   ]
  },
  {
   "cell_type": "code",
   "execution_count": 13,
   "id": "e5c24264",
   "metadata": {},
   "outputs": [
    {
     "data": {
      "text/plain": [
       "['python .\\\\dictionary_file_based.py list data10.txt add.in list_add10.exp',\n",
       " 'python .\\\\dictionary_file_based.py list data500.txt add.in list_add500.exp',\n",
       " 'python .\\\\dictionary_file_based.py list data5k.txt add.in list_add5k.exp',\n",
       " 'python .\\\\dictionary_file_based.py list data50k.txt add.in list_add50k.exp',\n",
       " 'python .\\\\dictionary_file_based.py list data200k.txt add.in list_add200k.exp',\n",
       " 'python .\\\\dictionary_file_based.py list data10.txt delete.in list_delete10.exp',\n",
       " 'python .\\\\dictionary_file_based.py list data500.txt delete.in list_delete500.exp',\n",
       " 'python .\\\\dictionary_file_based.py list data5k.txt delete.in list_delete5k.exp',\n",
       " 'python .\\\\dictionary_file_based.py list data50k.txt delete.in list_delete50k.exp',\n",
       " 'python .\\\\dictionary_file_based.py list data200k.txt delete.in list_delete200k.exp',\n",
       " 'python .\\\\dictionary_file_based.py list data10.txt search.in list_search10.exp',\n",
       " 'python .\\\\dictionary_file_based.py list data500.txt search.in list_search500.exp',\n",
       " 'python .\\\\dictionary_file_based.py list data5k.txt search.in list_search5k.exp',\n",
       " 'python .\\\\dictionary_file_based.py list data50k.txt search.in list_search50k.exp',\n",
       " 'python .\\\\dictionary_file_based.py list data200k.txt search.in list_search200k.exp',\n",
       " 'python .\\\\dictionary_file_based.py list data10.txt auto_complete.in list_auto_complete10.exp',\n",
       " 'python .\\\\dictionary_file_based.py list data500.txt auto_complete.in list_auto_complete500.exp',\n",
       " 'python .\\\\dictionary_file_based.py list data5k.txt auto_complete.in list_auto_complete5k.exp',\n",
       " 'python .\\\\dictionary_file_based.py list data50k.txt auto_complete.in list_auto_complete50k.exp',\n",
       " 'python .\\\\dictionary_file_based.py list data200k.txt auto_complete.in list_auto_complete200k.exp',\n",
       " 'python .\\\\dictionary_file_based.py hashtable data10.txt add.in hashtable_add10.exp',\n",
       " 'python .\\\\dictionary_file_based.py hashtable data500.txt add.in hashtable_add500.exp',\n",
       " 'python .\\\\dictionary_file_based.py hashtable data5k.txt add.in hashtable_add5k.exp',\n",
       " 'python .\\\\dictionary_file_based.py hashtable data50k.txt add.in hashtable_add50k.exp',\n",
       " 'python .\\\\dictionary_file_based.py hashtable data200k.txt add.in hashtable_add200k.exp',\n",
       " 'python .\\\\dictionary_file_based.py hashtable data10.txt delete.in hashtable_delete10.exp',\n",
       " 'python .\\\\dictionary_file_based.py hashtable data500.txt delete.in hashtable_delete500.exp',\n",
       " 'python .\\\\dictionary_file_based.py hashtable data5k.txt delete.in hashtable_delete5k.exp',\n",
       " 'python .\\\\dictionary_file_based.py hashtable data50k.txt delete.in hashtable_delete50k.exp',\n",
       " 'python .\\\\dictionary_file_based.py hashtable data200k.txt delete.in hashtable_delete200k.exp',\n",
       " 'python .\\\\dictionary_file_based.py hashtable data10.txt search.in hashtable_search10.exp',\n",
       " 'python .\\\\dictionary_file_based.py hashtable data500.txt search.in hashtable_search500.exp',\n",
       " 'python .\\\\dictionary_file_based.py hashtable data5k.txt search.in hashtable_search5k.exp',\n",
       " 'python .\\\\dictionary_file_based.py hashtable data50k.txt search.in hashtable_search50k.exp',\n",
       " 'python .\\\\dictionary_file_based.py hashtable data200k.txt search.in hashtable_search200k.exp',\n",
       " 'python .\\\\dictionary_file_based.py hashtable data10.txt auto_complete.in hashtable_auto_complete10.exp',\n",
       " 'python .\\\\dictionary_file_based.py hashtable data500.txt auto_complete.in hashtable_auto_complete500.exp',\n",
       " 'python .\\\\dictionary_file_based.py hashtable data5k.txt auto_complete.in hashtable_auto_complete5k.exp',\n",
       " 'python .\\\\dictionary_file_based.py hashtable data50k.txt auto_complete.in hashtable_auto_complete50k.exp',\n",
       " 'python .\\\\dictionary_file_based.py hashtable data200k.txt auto_complete.in hashtable_auto_complete200k.exp',\n",
       " 'python .\\\\dictionary_file_based.py tst data10.txt add.in tst_add10.exp',\n",
       " 'python .\\\\dictionary_file_based.py tst data500.txt add.in tst_add500.exp',\n",
       " 'python .\\\\dictionary_file_based.py tst data5k.txt add.in tst_add5k.exp',\n",
       " 'python .\\\\dictionary_file_based.py tst data50k.txt add.in tst_add50k.exp',\n",
       " 'python .\\\\dictionary_file_based.py tst data200k.txt add.in tst_add200k.exp',\n",
       " 'python .\\\\dictionary_file_based.py tst data10.txt delete.in tst_delete10.exp',\n",
       " 'python .\\\\dictionary_file_based.py tst data500.txt delete.in tst_delete500.exp',\n",
       " 'python .\\\\dictionary_file_based.py tst data5k.txt delete.in tst_delete5k.exp',\n",
       " 'python .\\\\dictionary_file_based.py tst data50k.txt delete.in tst_delete50k.exp',\n",
       " 'python .\\\\dictionary_file_based.py tst data200k.txt delete.in tst_delete200k.exp',\n",
       " 'python .\\\\dictionary_file_based.py tst data10.txt search.in tst_search10.exp',\n",
       " 'python .\\\\dictionary_file_based.py tst data500.txt search.in tst_search500.exp',\n",
       " 'python .\\\\dictionary_file_based.py tst data5k.txt search.in tst_search5k.exp',\n",
       " 'python .\\\\dictionary_file_based.py tst data50k.txt search.in tst_search50k.exp',\n",
       " 'python .\\\\dictionary_file_based.py tst data200k.txt search.in tst_search200k.exp',\n",
       " 'python .\\\\dictionary_file_based.py tst data10.txt auto_complete.in tst_auto_complete10.exp',\n",
       " 'python .\\\\dictionary_file_based.py tst data500.txt auto_complete.in tst_auto_complete500.exp',\n",
       " 'python .\\\\dictionary_file_based.py tst data5k.txt auto_complete.in tst_auto_complete5k.exp',\n",
       " 'python .\\\\dictionary_file_based.py tst data50k.txt auto_complete.in tst_auto_complete50k.exp',\n",
       " 'python .\\\\dictionary_file_based.py tst data200k.txt auto_complete.in tst_auto_complete200k.exp']"
      ]
     },
     "execution_count": 13,
     "metadata": {},
     "output_type": "execute_result"
    }
   ],
   "source": [
    "commands = []\n",
    "\n",
    "for method in methods:\n",
    "    for operation in operations:\n",
    "        commands += run(method, data_files, operation)\n",
    "            \n",
    "commands"
   ]
  },
  {
   "cell_type": "code",
   "execution_count": 16,
   "id": "a8cba8b5",
   "metadata": {},
   "outputs": [
    {
     "name": "stdout",
     "output_type": "stream",
     "text": [
      "907 ms ± 47 ms per loop (mean ± std. dev. of 7 runs, 1 loop each)\n"
     ]
    }
   ],
   "source": [
    "%timeit os.system(commands[4])"
   ]
  }
 ],
 "metadata": {
  "kernelspec": {
   "display_name": "Python 3 (ipykernel)",
   "language": "python",
   "name": "python3"
  },
  "language_info": {
   "codemirror_mode": {
    "name": "ipython",
    "version": 3
   },
   "file_extension": ".py",
   "mimetype": "text/x-python",
   "name": "python",
   "nbconvert_exporter": "python",
   "pygments_lexer": "ipython3",
   "version": "3.9.5"
  },
  "latex_envs": {
   "LaTeX_envs_menu_present": true,
   "autoclose": false,
   "autocomplete": true,
   "bibliofile": "biblio.bib",
   "cite_by": "apalike",
   "current_citInitial": 1,
   "eqLabelWithNumbers": true,
   "eqNumInitial": 1,
   "hotkeys": {
    "equation": "Ctrl-E",
    "itemize": "Ctrl-I"
   },
   "labels_anchors": false,
   "latex_user_defs": false,
   "report_style_numbering": false,
   "user_envs_cfg": false
  }
 },
 "nbformat": 4,
 "nbformat_minor": 5
}
